{
 "cells": [
  {
   "cell_type": "markdown",
   "id": "22f9f733-8f5b-4749-ae53-8548e1fcc121",
   "metadata": {},
   "source": [
    "## 1. Data preparation"
   ]
  },
  {
   "cell_type": "code",
   "execution_count": 1,
   "id": "04b2b5a6-657b-4420-881e-bbc5839666be",
   "metadata": {},
   "outputs": [],
   "source": [
    "import numpy as np\n",
    "import pandas as pd\n",
    "from dataCategory import CategorizeData\n",
    "import warnings\n",
    "\n",
    "seed = 7  # to use for all random generators"
   ]
  },
  {
   "cell_type": "code",
   "execution_count": 2,
   "id": "0b88da58-ea5f-43fe-abd0-99ec98975c71",
   "metadata": {},
   "outputs": [],
   "source": [
    "transactions_df = CategorizeData('data.csv').df  # add the categories we want to predict to the dataset"
   ]
  },
  {
   "cell_type": "code",
   "execution_count": 3,
   "id": "81e5a9bd-8763-4b78-a957-ec3c5efbfef9",
   "metadata": {},
   "outputs": [
    {
     "data": {
      "text/html": [
       "<div>\n",
       "<style scoped>\n",
       "    .dataframe tbody tr th:only-of-type {\n",
       "        vertical-align: middle;\n",
       "    }\n",
       "\n",
       "    .dataframe tbody tr th {\n",
       "        vertical-align: top;\n",
       "    }\n",
       "\n",
       "    .dataframe thead th {\n",
       "        text-align: right;\n",
       "    }\n",
       "</style>\n",
       "<table border=\"1\" class=\"dataframe\">\n",
       "  <thead>\n",
       "    <tr style=\"text-align: right;\">\n",
       "      <th></th>\n",
       "      <th>transaction_id</th>\n",
       "      <th>transaction_date</th>\n",
       "      <th>transaction_type</th>\n",
       "      <th>sort_code</th>\n",
       "      <th>account_number</th>\n",
       "      <th>transaction_description</th>\n",
       "      <th>debit_amount</th>\n",
       "      <th>credit_amount</th>\n",
       "      <th>balance</th>\n",
       "      <th>number</th>\n",
       "      <th>type</th>\n",
       "      <th>day_of_week</th>\n",
       "      <th>category_spend</th>\n",
       "      <th>sub_category</th>\n",
       "    </tr>\n",
       "  </thead>\n",
       "  <tbody>\n",
       "    <tr>\n",
       "      <th>6566</th>\n",
       "      <td>39393356e4f2434493b3e0d3c3b505a2</td>\n",
       "      <td>27/07/2015</td>\n",
       "      <td>FPO</td>\n",
       "      <td>30-95-46</td>\n",
       "      <td>17899960</td>\n",
       "      <td>alan_holland</td>\n",
       "      <td>1000.00</td>\n",
       "      <td>0.0</td>\n",
       "      <td>7517.06</td>\n",
       "      <td>6567</td>\n",
       "      <td>debit</td>\n",
       "      <td>Monday</td>\n",
       "      <td>transfer</td>\n",
       "      <td>others</td>\n",
       "    </tr>\n",
       "    <tr>\n",
       "      <th>6565</th>\n",
       "      <td>4279fbcd0b04433288934135ec52de84</td>\n",
       "      <td>27/07/2015</td>\n",
       "      <td>DEB</td>\n",
       "      <td>30-95-46</td>\n",
       "      <td>17899960</td>\n",
       "      <td>js_online_grocery</td>\n",
       "      <td>316.51</td>\n",
       "      <td>0.0</td>\n",
       "      <td>7200.55</td>\n",
       "      <td>6566</td>\n",
       "      <td>debit</td>\n",
       "      <td>Monday</td>\n",
       "      <td>Shopping</td>\n",
       "      <td>online_shopping_debit</td>\n",
       "    </tr>\n",
       "    <tr>\n",
       "      <th>6564</th>\n",
       "      <td>cb98fbe81b9842dba19be4e5d4e3761c</td>\n",
       "      <td>27/07/2015</td>\n",
       "      <td>DEB</td>\n",
       "      <td>30-95-46</td>\n",
       "      <td>17899960</td>\n",
       "      <td>amazon_uk_marketpl</td>\n",
       "      <td>6.39</td>\n",
       "      <td>0.0</td>\n",
       "      <td>7194.16</td>\n",
       "      <td>6565</td>\n",
       "      <td>debit</td>\n",
       "      <td>Monday</td>\n",
       "      <td>Shopping</td>\n",
       "      <td>online_shopping_debit</td>\n",
       "    </tr>\n",
       "    <tr>\n",
       "      <th>6563</th>\n",
       "      <td>3e93cd15c26846cca75d90b7dd645062</td>\n",
       "      <td>28/07/2015</td>\n",
       "      <td>BP</td>\n",
       "      <td>30-95-46</td>\n",
       "      <td>17899960</td>\n",
       "      <td>save_the_change</td>\n",
       "      <td>1.10</td>\n",
       "      <td>0.0</td>\n",
       "      <td>7193.06</td>\n",
       "      <td>6564</td>\n",
       "      <td>debit</td>\n",
       "      <td>Tuesday</td>\n",
       "      <td>bill_payments</td>\n",
       "      <td>savings</td>\n",
       "    </tr>\n",
       "    <tr>\n",
       "      <th>6562</th>\n",
       "      <td>9ce0dd2ba2bd45afa2b73185f12d62ad</td>\n",
       "      <td>28/07/2015</td>\n",
       "      <td>DEB</td>\n",
       "      <td>30-95-46</td>\n",
       "      <td>17899960</td>\n",
       "      <td>amazon_svcs_europe</td>\n",
       "      <td>5.49</td>\n",
       "      <td>0.0</td>\n",
       "      <td>7187.57</td>\n",
       "      <td>6563</td>\n",
       "      <td>debit</td>\n",
       "      <td>Tuesday</td>\n",
       "      <td>Shopping</td>\n",
       "      <td>online_shopping_debit</td>\n",
       "    </tr>\n",
       "    <tr>\n",
       "      <th>6561</th>\n",
       "      <td>8f039615e49249db96abe96935025f1d</td>\n",
       "      <td>29/07/2015</td>\n",
       "      <td>BP</td>\n",
       "      <td>30-95-46</td>\n",
       "      <td>17899960</td>\n",
       "      <td>save_the_change</td>\n",
       "      <td>0.51</td>\n",
       "      <td>0.0</td>\n",
       "      <td>7187.06</td>\n",
       "      <td>6562</td>\n",
       "      <td>debit</td>\n",
       "      <td>Wednesday</td>\n",
       "      <td>bill_payments</td>\n",
       "      <td>savings</td>\n",
       "    </tr>\n",
       "    <tr>\n",
       "      <th>6560</th>\n",
       "      <td>9adba576fdcd45cebd87711688729f7e</td>\n",
       "      <td>29/07/2015</td>\n",
       "      <td>CPT</td>\n",
       "      <td>30-95-46</td>\n",
       "      <td>17899960</td>\n",
       "      <td>loyd_swansea_unive</td>\n",
       "      <td>70.00</td>\n",
       "      <td>0.0</td>\n",
       "      <td>7117.06</td>\n",
       "      <td>6561</td>\n",
       "      <td>debit</td>\n",
       "      <td>Wednesday</td>\n",
       "      <td>cash_point</td>\n",
       "      <td>others</td>\n",
       "    </tr>\n",
       "    <tr>\n",
       "      <th>6559</th>\n",
       "      <td>42495900ded544dbb532da899ed31b4b</td>\n",
       "      <td>29/07/2015</td>\n",
       "      <td>DEB</td>\n",
       "      <td>30-95-46</td>\n",
       "      <td>17899960</td>\n",
       "      <td>amazon_svcs_europe</td>\n",
       "      <td>4.54</td>\n",
       "      <td>0.0</td>\n",
       "      <td>7112.52</td>\n",
       "      <td>6560</td>\n",
       "      <td>debit</td>\n",
       "      <td>Wednesday</td>\n",
       "      <td>Shopping</td>\n",
       "      <td>online_shopping_debit</td>\n",
       "    </tr>\n",
       "    <tr>\n",
       "      <th>6558</th>\n",
       "      <td>46c7c6aac33e4462ab05804930e51ba3</td>\n",
       "      <td>29/07/2015</td>\n",
       "      <td>DEB</td>\n",
       "      <td>30-95-46</td>\n",
       "      <td>17899960</td>\n",
       "      <td>amazon_uk_marketpl</td>\n",
       "      <td>17.94</td>\n",
       "      <td>0.0</td>\n",
       "      <td>7094.58</td>\n",
       "      <td>6559</td>\n",
       "      <td>debit</td>\n",
       "      <td>Wednesday</td>\n",
       "      <td>Shopping</td>\n",
       "      <td>online_shopping_debit</td>\n",
       "    </tr>\n",
       "    <tr>\n",
       "      <th>6557</th>\n",
       "      <td>b2c5d07397bc4b74be3bb26fc653e0b9</td>\n",
       "      <td>30/07/2015</td>\n",
       "      <td>BP</td>\n",
       "      <td>30-95-46</td>\n",
       "      <td>17899960</td>\n",
       "      <td>save_the_change</td>\n",
       "      <td>0.52</td>\n",
       "      <td>0.0</td>\n",
       "      <td>7094.06</td>\n",
       "      <td>6558</td>\n",
       "      <td>debit</td>\n",
       "      <td>Thursday</td>\n",
       "      <td>bill_payments</td>\n",
       "      <td>savings</td>\n",
       "    </tr>\n",
       "  </tbody>\n",
       "</table>\n",
       "</div>"
      ],
      "text/plain": [
       "                        transaction_id transaction_date transaction_type  \\\n",
       "6566  39393356e4f2434493b3e0d3c3b505a2       27/07/2015              FPO   \n",
       "6565  4279fbcd0b04433288934135ec52de84       27/07/2015              DEB   \n",
       "6564  cb98fbe81b9842dba19be4e5d4e3761c       27/07/2015              DEB   \n",
       "6563  3e93cd15c26846cca75d90b7dd645062       28/07/2015               BP   \n",
       "6562  9ce0dd2ba2bd45afa2b73185f12d62ad       28/07/2015              DEB   \n",
       "6561  8f039615e49249db96abe96935025f1d       29/07/2015               BP   \n",
       "6560  9adba576fdcd45cebd87711688729f7e       29/07/2015              CPT   \n",
       "6559  42495900ded544dbb532da899ed31b4b       29/07/2015              DEB   \n",
       "6558  46c7c6aac33e4462ab05804930e51ba3       29/07/2015              DEB   \n",
       "6557  b2c5d07397bc4b74be3bb26fc653e0b9       30/07/2015               BP   \n",
       "\n",
       "     sort_code  account_number transaction_description  debit_amount  \\\n",
       "6566  30-95-46        17899960            alan_holland       1000.00   \n",
       "6565  30-95-46        17899960       js_online_grocery        316.51   \n",
       "6564  30-95-46        17899960      amazon_uk_marketpl          6.39   \n",
       "6563  30-95-46        17899960         save_the_change          1.10   \n",
       "6562  30-95-46        17899960      amazon_svcs_europe          5.49   \n",
       "6561  30-95-46        17899960         save_the_change          0.51   \n",
       "6560  30-95-46        17899960      loyd_swansea_unive         70.00   \n",
       "6559  30-95-46        17899960      amazon_svcs_europe          4.54   \n",
       "6558  30-95-46        17899960      amazon_uk_marketpl         17.94   \n",
       "6557  30-95-46        17899960         save_the_change          0.52   \n",
       "\n",
       "      credit_amount  balance  number   type day_of_week category_spend  \\\n",
       "6566            0.0  7517.06    6567  debit      Monday       transfer   \n",
       "6565            0.0  7200.55    6566  debit      Monday       Shopping   \n",
       "6564            0.0  7194.16    6565  debit      Monday       Shopping   \n",
       "6563            0.0  7193.06    6564  debit     Tuesday  bill_payments   \n",
       "6562            0.0  7187.57    6563  debit     Tuesday       Shopping   \n",
       "6561            0.0  7187.06    6562  debit   Wednesday  bill_payments   \n",
       "6560            0.0  7117.06    6561  debit   Wednesday     cash_point   \n",
       "6559            0.0  7112.52    6560  debit   Wednesday       Shopping   \n",
       "6558            0.0  7094.58    6559  debit   Wednesday       Shopping   \n",
       "6557            0.0  7094.06    6558  debit    Thursday  bill_payments   \n",
       "\n",
       "               sub_category  \n",
       "6566                 others  \n",
       "6565  online_shopping_debit  \n",
       "6564  online_shopping_debit  \n",
       "6563                savings  \n",
       "6562  online_shopping_debit  \n",
       "6561                savings  \n",
       "6560                 others  \n",
       "6559  online_shopping_debit  \n",
       "6558  online_shopping_debit  \n",
       "6557                savings  "
      ]
     },
     "execution_count": 3,
     "metadata": {},
     "output_type": "execute_result"
    }
   ],
   "source": [
    "transactions_df.head(n=10)"
   ]
  },
  {
   "cell_type": "markdown",
   "id": "121a97e2-f204-4d5e-ac2a-30f278919dec",
   "metadata": {},
   "source": [
    "Our task is to predict the transaction category based on the text desciprion alone, so we can remove all the columns except 'transaction_desciption',  'category_spend', 'sub_category'"
   ]
  },
  {
   "cell_type": "code",
   "execution_count": 4,
   "id": "705bedff-93ff-4a8c-a3be-6e403e25b464",
   "metadata": {},
   "outputs": [],
   "source": [
    "transactions_df = transactions_df[['transaction_description', 'category_spend', 'sub_category']]"
   ]
  },
  {
   "cell_type": "markdown",
   "id": "d96cc19b-a642-454e-a45c-e57542bb70fc",
   "metadata": {},
   "source": [
    "Let's look what kind of text we have in the desciption column:"
   ]
  },
  {
   "cell_type": "code",
   "execution_count": 5,
   "id": "664e5c8b-276a-402f-85bb-77b92111637a",
   "metadata": {},
   "outputs": [
    {
     "data": {
      "text/plain": [
       "array(['alan_holland', 'js_online_grocery', 'amazon_uk_marketpl',\n",
       "       'save_the_change', 'amazon_svcs_europe', 'save_the_change',\n",
       "       'loyd_swansea_unive', 'amazon_svcs_europe', 'amazon_uk_marketpl',\n",
       "       'save_the_change', 'amazon_uk_marketpl', 'swansea_university',\n",
       "       'swansea_university', 'save_the_change', 'univ_&_col_union',\n",
       "       'arriva_trains_wale', 'stfc_ap', 'save_the_change',\n",
       "       'esavings_account', 'tv_licence_mbp'], dtype=object)"
      ]
     },
     "execution_count": 5,
     "metadata": {},
     "output_type": "execute_result"
    }
   ],
   "source": [
    "transactions_df['transaction_description'].values[:20]"
   ]
  },
  {
   "cell_type": "markdown",
   "id": "413679ea-2901-4506-8740-9a6e7c166656",
   "metadata": {},
   "source": [
    "Checking the missing values:"
   ]
  },
  {
   "cell_type": "code",
   "execution_count": 6,
   "id": "14853215-a08b-4f81-a8c8-93c5429ce117",
   "metadata": {},
   "outputs": [
    {
     "data": {
      "text/plain": [
       "np.int64(0)"
      ]
     },
     "execution_count": 6,
     "metadata": {},
     "output_type": "execute_result"
    }
   ],
   "source": [
    "transactions_df['transaction_description'].isna().sum()"
   ]
  },
  {
   "cell_type": "markdown",
   "id": "9749e2f6-b622-4746-91b4-af2956240b40",
   "metadata": {},
   "source": [
    "Also there can be 'hidden' missing values such as empty strings or nonsense text, but looking at the values, we can conclude that the vast majority of the data is OK"
   ]
  },
  {
   "cell_type": "markdown",
   "id": "6faca3ff-3b01-4226-a4bb-6c6c8755a905",
   "metadata": {},
   "source": [
    "As we can see, we should tokenise our dataset, using plain words as tokens. It seems that other symbols and numbers don't add much meaning"
   ]
  },
  {
   "cell_type": "code",
   "execution_count": 7,
   "id": "41875b96-9956-485e-adf9-073e47089f44",
   "metadata": {},
   "outputs": [],
   "source": [
    "import re\n",
    "\n",
    "def tokenize_words(text):\n",
    "    return re.findall(r'[a-zA-Z]+', text.lower())\n",
    "\n",
    "transactions_df.loc[:, 'transaction_description'] = transactions_df['transaction_description'].apply(tokenize_words)"
   ]
  },
  {
   "cell_type": "code",
   "execution_count": 8,
   "id": "1e0e5026-9612-4be2-81cd-b30e874604d5",
   "metadata": {},
   "outputs": [
    {
     "data": {
      "text/html": [
       "<div>\n",
       "<style scoped>\n",
       "    .dataframe tbody tr th:only-of-type {\n",
       "        vertical-align: middle;\n",
       "    }\n",
       "\n",
       "    .dataframe tbody tr th {\n",
       "        vertical-align: top;\n",
       "    }\n",
       "\n",
       "    .dataframe thead th {\n",
       "        text-align: right;\n",
       "    }\n",
       "</style>\n",
       "<table border=\"1\" class=\"dataframe\">\n",
       "  <thead>\n",
       "    <tr style=\"text-align: right;\">\n",
       "      <th></th>\n",
       "      <th>transaction_description</th>\n",
       "      <th>category_spend</th>\n",
       "      <th>sub_category</th>\n",
       "    </tr>\n",
       "  </thead>\n",
       "  <tbody>\n",
       "    <tr>\n",
       "      <th>6566</th>\n",
       "      <td>[alan, holland]</td>\n",
       "      <td>transfer</td>\n",
       "      <td>others</td>\n",
       "    </tr>\n",
       "    <tr>\n",
       "      <th>6565</th>\n",
       "      <td>[js, online, grocery]</td>\n",
       "      <td>Shopping</td>\n",
       "      <td>online_shopping_debit</td>\n",
       "    </tr>\n",
       "    <tr>\n",
       "      <th>6564</th>\n",
       "      <td>[amazon, uk, marketpl]</td>\n",
       "      <td>Shopping</td>\n",
       "      <td>online_shopping_debit</td>\n",
       "    </tr>\n",
       "    <tr>\n",
       "      <th>6563</th>\n",
       "      <td>[save, the, change]</td>\n",
       "      <td>bill_payments</td>\n",
       "      <td>savings</td>\n",
       "    </tr>\n",
       "    <tr>\n",
       "      <th>6562</th>\n",
       "      <td>[amazon, svcs, europe]</td>\n",
       "      <td>Shopping</td>\n",
       "      <td>online_shopping_debit</td>\n",
       "    </tr>\n",
       "    <tr>\n",
       "      <th>...</th>\n",
       "      <td>...</td>\n",
       "      <td>...</td>\n",
       "      <td>...</td>\n",
       "    </tr>\n",
       "    <tr>\n",
       "      <th>4</th>\n",
       "      <td>[travelium, llc]</td>\n",
       "      <td>Shopping</td>\n",
       "      <td>travel</td>\n",
       "    </tr>\n",
       "    <tr>\n",
       "      <th>3</th>\n",
       "      <td>[non, gbp, trans, fee]</td>\n",
       "      <td>Shopping</td>\n",
       "      <td>bank_fee_debit</td>\n",
       "    </tr>\n",
       "    <tr>\n",
       "      <th>2</th>\n",
       "      <td>[non, gbp, purch, fee]</td>\n",
       "      <td>Shopping</td>\n",
       "      <td>bank_fee_debit</td>\n",
       "    </tr>\n",
       "    <tr>\n",
       "      <th>1</th>\n",
       "      <td>[lidl, gb, nottingha]</td>\n",
       "      <td>Shopping</td>\n",
       "      <td>instore_purchase_debit</td>\n",
       "    </tr>\n",
       "    <tr>\n",
       "      <th>0</th>\n",
       "      <td>[save, the, change]</td>\n",
       "      <td>bill_payments</td>\n",
       "      <td>savings</td>\n",
       "    </tr>\n",
       "  </tbody>\n",
       "</table>\n",
       "<p>6567 rows × 3 columns</p>\n",
       "</div>"
      ],
      "text/plain": [
       "     transaction_description category_spend            sub_category\n",
       "6566         [alan, holland]       transfer                  others\n",
       "6565   [js, online, grocery]       Shopping   online_shopping_debit\n",
       "6564  [amazon, uk, marketpl]       Shopping   online_shopping_debit\n",
       "6563     [save, the, change]  bill_payments                 savings\n",
       "6562  [amazon, svcs, europe]       Shopping   online_shopping_debit\n",
       "...                      ...            ...                     ...\n",
       "4           [travelium, llc]       Shopping                  travel\n",
       "3     [non, gbp, trans, fee]       Shopping          bank_fee_debit\n",
       "2     [non, gbp, purch, fee]       Shopping          bank_fee_debit\n",
       "1      [lidl, gb, nottingha]       Shopping  instore_purchase_debit\n",
       "0        [save, the, change]  bill_payments                 savings\n",
       "\n",
       "[6567 rows x 3 columns]"
      ]
     },
     "execution_count": 8,
     "metadata": {},
     "output_type": "execute_result"
    }
   ],
   "source": [
    "transactions_df"
   ]
  },
  {
   "cell_type": "code",
   "execution_count": 9,
   "id": "f0643aca-7227-4868-aa29-98a4e76f3561",
   "metadata": {},
   "outputs": [],
   "source": [
    "from sklearn.model_selection import train_test_split\n",
    "\n",
    "X = transactions_df['transaction_description']\n",
    "Y_category = transactions_df['category_spend']\n",
    "Y_sub_category = transactions_df['sub_category']\n",
    "\n",
    "X_category_train, X_category_test, Y_category_train, Y_category_test = train_test_split(X, Y_category, test_size=0.2, random_state=seed, stratify=Y_category)\n",
    "X_sub_category_train, X_sub_category_test, Y_sub_category_train, Y_sub_category_test = train_test_split(X, Y_sub_category, test_size=0.2, random_state=seed, stratify=Y_sub_category)"
   ]
  },
  {
   "cell_type": "code",
   "execution_count": 10,
   "id": "363e5528-3697-4a3e-b60b-f81e2b2c1311",
   "metadata": {},
   "outputs": [
    {
     "name": "stdout",
     "output_type": "stream",
     "text": [
      "Vocabulary size: 1202 words\n"
     ]
    }
   ],
   "source": [
    "vocabulary = set()\n",
    "for text in X:\n",
    "    for word in text:\n",
    "        vocabulary.add(word)\n",
    "print(f\"Vocabulary size: {len(vocabulary)} words\")"
   ]
  },
  {
   "cell_type": "markdown",
   "id": "54ec3c34-c3a1-4e40-9f5f-5fbc131f0a3c",
   "metadata": {},
   "source": [
    "Check the label values and their counts"
   ]
  },
  {
   "cell_type": "code",
   "execution_count": 11,
   "id": "5a2ac4b4-86e1-4d67-a5b7-3e0b6928600e",
   "metadata": {},
   "outputs": [
    {
     "data": {
      "text/plain": [
       "category_spend\n",
       "Shopping           2614\n",
       "bill_payments      1675\n",
       "cash_point          358\n",
       "transfer            281\n",
       "income              241\n",
       "deposits             44\n",
       "account_fees         27\n",
       "cheque_payments      13\n",
       "Name: count, dtype: int64"
      ]
     },
     "execution_count": 11,
     "metadata": {},
     "output_type": "execute_result"
    }
   ],
   "source": [
    "Y_category_train.value_counts()"
   ]
  },
  {
   "cell_type": "code",
   "execution_count": 12,
   "id": "af0b0b29-c104-47d1-a7d1-ae881c548422",
   "metadata": {},
   "outputs": [
    {
     "data": {
      "text/plain": [
       "sub_category\n",
       "online_shopping_debit     1099\n",
       "savings                   1009\n",
       "others                     994\n",
       "bill_payments              626\n",
       "instore_purchase_debit     417\n",
       "bank_fee_debit             260\n",
       "Food                       245\n",
       "travel                     148\n",
       "income                     138\n",
       "investment                 101\n",
       "money_transfer_credit       97\n",
       "interest                    49\n",
       "bank_fee_credit             40\n",
       "deposits_debit               9\n",
       "deposits_credit              8\n",
       "money_transfer_debit         7\n",
       "online_shoping_refund        4\n",
       "travel_refund                2\n",
       "Name: count, dtype: int64"
      ]
     },
     "execution_count": 12,
     "metadata": {},
     "output_type": "execute_result"
    }
   ],
   "source": [
    "Y_sub_category_train.value_counts()"
   ]
  },
  {
   "cell_type": "markdown",
   "id": "d7dbe2f5-44f1-410b-9363-3b4a6c181f83",
   "metadata": {},
   "source": [
    "To convert the text description to a format suitable for training a machine learning model, we should consider the tools available. We could utilise TF-IDF or pretrained word embeddings, such as Word2Vec, but the descriptions are too short, typically only 2-3 words, making TF-IDF not effective here. The common pretrained embeddings are quite large. So we would try simple one-hot encoding, especially as the vocabulary size is small enough"
   ]
  },
  {
   "cell_type": "markdown",
   "id": "263b619c-e5f7-47fe-90bf-7d74477b2254",
   "metadata": {},
   "source": [
    "## 2. Models training"
   ]
  },
  {
   "cell_type": "markdown",
   "id": "fb515b0d-ba86-4bcc-8580-21b22fec8732",
   "metadata": {},
   "source": [
    "Now, let's train several classical machine learning models, starting with logistic regression and then switching to tree models, like boosting and RF. The tree models can help us a lot if the data is not linearly separable. Also, we wrap all of these into pipelines."
   ]
  },
  {
   "cell_type": "code",
   "execution_count": 13,
   "id": "6665640e-d474-4c5e-afa0-e4b7886c5300",
   "metadata": {},
   "outputs": [],
   "source": [
    "from sklearn.preprocessing import MultiLabelBinarizer, LabelEncoder\n",
    "from sklearn.linear_model import LogisticRegression\n",
    "from sklearn.ensemble import RandomForestClassifier\n",
    "from xgboost import XGBClassifier\n",
    "from sklearn.pipeline import Pipeline"
   ]
  },
  {
   "cell_type": "code",
   "execution_count": 14,
   "id": "f60c23c4-c748-4b73-b7e7-40780d2d3e14",
   "metadata": {},
   "outputs": [],
   "source": [
    "category_label_encoder = LabelEncoder()\n",
    "Y_category_train = category_label_encoder.fit_transform(Y_category_train)\n",
    "Y_category_test = category_label_encoder.transform(Y_category_test)\n",
    "\n",
    "sub_category_label_encoder = LabelEncoder()\n",
    "Y_sub_category_train = sub_category_label_encoder.fit_transform(Y_sub_category_train)\n",
    "Y_sub_category_test = sub_category_label_encoder.transform(Y_sub_category_test)"
   ]
  },
  {
   "cell_type": "code",
   "execution_count": 16,
   "id": "9e01ee5c-95c6-4bd1-aa59-a4235b033628",
   "metadata": {},
   "outputs": [
    {
     "data": {
      "text/plain": [
       "['labels_encoder.pkl']"
      ]
     },
     "execution_count": 16,
     "metadata": {},
     "output_type": "execute_result"
    }
   ],
   "source": [
    "import joblib\n",
    "joblib.dump(category_label_encoder, 'labels_encoder.pkl')"
   ]
  },
  {
   "cell_type": "markdown",
   "id": "13f9d730-d48f-4e67-a44d-79560f486b14",
   "metadata": {},
   "source": [
    "Importing wrapper of the features one-hot encoder into a class to use it in sklearn's pipeline"
   ]
  },
  {
   "cell_type": "code",
   "execution_count": 17,
   "id": "743942f8-346d-406e-bbc8-c2fb070bb578",
   "metadata": {},
   "outputs": [],
   "source": [
    "from preprocessors import MultiLabelBinarizerWrapper "
   ]
  },
  {
   "cell_type": "markdown",
   "id": "48981e03-252d-463f-9349-cc9a2075434c",
   "metadata": {},
   "source": [
    "By experimenting with regularization for logistic regression, the best perofmance achieved without reguarization at all"
   ]
  },
  {
   "cell_type": "code",
   "execution_count": 18,
   "id": "6621b357-e94f-4399-a1fc-8424bf27c30c",
   "metadata": {},
   "outputs": [],
   "source": [
    "max_iterations = 1000\n",
    "\n",
    "log_reg_pipeline = Pipeline([\n",
    "    ('one-hot', MultiLabelBinarizerWrapper()),\n",
    "    (\"classifier\", LogisticRegression(penalty=None, max_iter=max_iterations, random_state=seed))\n",
    "])"
   ]
  },
  {
   "cell_type": "code",
   "execution_count": 19,
   "id": "9cb1dcde-4c2a-498a-bdd2-93a1602c209e",
   "metadata": {},
   "outputs": [],
   "source": [
    "num_estimators = 100\n",
    "random_forest_pipeline = Pipeline([\n",
    "    ('one-hot', MultiLabelBinarizerWrapper()),\n",
    "    (\"classifier\", RandomForestClassifier(n_estimators=num_estimators, random_state=seed))\n",
    "])"
   ]
  },
  {
   "cell_type": "code",
   "execution_count": 20,
   "id": "ba91809c-2621-4235-aa2f-a8d3d9915da5",
   "metadata": {},
   "outputs": [],
   "source": [
    "num_estimators = 100\n",
    "\n",
    "boosting_pipeline = Pipeline([\n",
    "    ('one-hot', MultiLabelBinarizerWrapper()),\n",
    "    (\"classifier\", XGBClassifier(objective='multi:softmax', eval_metric='mlogloss', \n",
    "                                 n_estimators=num_estimators, random_state=seed))\n",
    "])"
   ]
  },
  {
   "cell_type": "markdown",
   "id": "36ae43fd-8bcb-4348-97ae-13fc0c178515",
   "metadata": {},
   "source": [
    "## 3. Evaluation"
   ]
  },
  {
   "cell_type": "markdown",
   "id": "59404282-bb7d-4581-b9e5-9b5f6cd8c80a",
   "metadata": {},
   "source": [
    "The typical metrics for classification are: accuracy, precision/recall, f1-score. But we should note: there are significant class imbalance, so instead of plain accuracy we should use balanced accuracy. Also we should take into account precision and recall for all classes."
   ]
  },
  {
   "cell_type": "code",
   "execution_count": 21,
   "id": "01b4c702-710c-4ba7-83c0-af3f8b902f1f",
   "metadata": {},
   "outputs": [],
   "source": [
    "from sklearn.metrics import precision_score, recall_score, balanced_accuracy_score, f1_score"
   ]
  },
  {
   "cell_type": "code",
   "execution_count": 22,
   "id": "9b297b9d-eb10-4177-91d1-52ac1ac97ad3",
   "metadata": {},
   "outputs": [],
   "source": [
    "models = {\n",
    "    'Logistic Regression': log_reg_pipeline,\n",
    "    'Random Forest': random_forest_pipeline,\n",
    "    'Gradient Boosting': boosting_pipeline\n",
    "}"
   ]
  },
  {
   "cell_type": "code",
   "execution_count": 23,
   "id": "e0d062fe-9111-4517-84f7-26d8a1dcd1b1",
   "metadata": {},
   "outputs": [],
   "source": [
    "def fit_models_and_get_predictions(X_train, y_train, X_test):\n",
    "    model_predictions = {}\n",
    "    for model_name, model in models.items():\n",
    "        model.fit(X_train, y_train)\n",
    "        predictions = model.predict(X_test)\n",
    "        model_predictions[model_name] = predictions\n",
    "    return model_predictions"
   ]
  },
  {
   "cell_type": "code",
   "execution_count": 25,
   "id": "a7dc883c-da71-44d6-9024-891926666197",
   "metadata": {},
   "outputs": [],
   "source": [
    "def get_models_accuracies(true_labels, predictions):\n",
    "    models_accuracy = []\n",
    "    for model_name, model in models.items():\n",
    "        model_predictions = predictions[model_name]\n",
    "        score = balanced_accuracy_score(true_labels, model_predictions)\n",
    "        models_accuracy.append({'Model': model_name, 'Balanced Accuracy': score})\n",
    "        accuracy_df = pd.DataFrame(models_accuracy)\n",
    "    return accuracy_df"
   ]
  },
  {
   "cell_type": "code",
   "execution_count": 26,
   "id": "f37a4fb5-f445-4a14-9aef-13a192c61924",
   "metadata": {},
   "outputs": [],
   "source": [
    "def get_models_precisions_and_recalls(true_labels, predictions, class_names):\n",
    "    models_results = {}\n",
    "    for model_name, model in models.items():\n",
    "        model_predictions = predictions[model_name]\n",
    "        precision = precision_score(true_labels, model_predictions, average=None)\n",
    "        recall = recall_score(true_labels, model_predictions, average=None)\n",
    "        model_results = []\n",
    "        for idx, class_name in enumerate(class_names):\n",
    "            model_results.append({\n",
    "                'Class': class_name,\n",
    "                'Precision': precision[idx],\n",
    "                'Recall': recall[idx]\n",
    "            })\n",
    "        models_results[model_name] = pd.DataFrame(model_results)\n",
    "    return models_results"
   ]
  },
  {
   "cell_type": "code",
   "execution_count": null,
   "id": "416ed6a7-14d8-4d2e-9422-2b1da5315a71",
   "metadata": {},
   "outputs": [],
   "source": [
    "models_predictions = fit_models_and_get_predictions(X_category_train, Y_category_train, X_category_test)\n",
    "class_names = category_label_encoder.classes_\n",
    "accuracy_df = get_models_accuracies(Y_category_test, models_predictions)\n",
    "precisions_and_recalls = get_models_precisions_and_recalls(Y_category_test, models_predictions, class_names=class_names)"
   ]
  },
  {
   "cell_type": "code",
   "execution_count": 28,
   "id": "fb016c36-abba-489b-a7a8-436bfef678a8",
   "metadata": {},
   "outputs": [
    {
     "data": {
      "text/html": [
       "<div>\n",
       "<style scoped>\n",
       "    .dataframe tbody tr th:only-of-type {\n",
       "        vertical-align: middle;\n",
       "    }\n",
       "\n",
       "    .dataframe tbody tr th {\n",
       "        vertical-align: top;\n",
       "    }\n",
       "\n",
       "    .dataframe thead th {\n",
       "        text-align: right;\n",
       "    }\n",
       "</style>\n",
       "<table border=\"1\" class=\"dataframe\">\n",
       "  <thead>\n",
       "    <tr style=\"text-align: right;\">\n",
       "      <th></th>\n",
       "      <th>Model</th>\n",
       "      <th>Balanced Accuracy</th>\n",
       "    </tr>\n",
       "  </thead>\n",
       "  <tbody>\n",
       "    <tr>\n",
       "      <th>0</th>\n",
       "      <td>Logistic Regression</td>\n",
       "      <td>0.951216</td>\n",
       "    </tr>\n",
       "    <tr>\n",
       "      <th>1</th>\n",
       "      <td>Random Forest</td>\n",
       "      <td>0.949305</td>\n",
       "    </tr>\n",
       "    <tr>\n",
       "      <th>2</th>\n",
       "      <td>Gradient Boosting</td>\n",
       "      <td>0.857240</td>\n",
       "    </tr>\n",
       "  </tbody>\n",
       "</table>\n",
       "</div>"
      ],
      "text/plain": [
       "                 Model  Balanced Accuracy\n",
       "0  Logistic Regression           0.951216\n",
       "1        Random Forest           0.949305\n",
       "2    Gradient Boosting           0.857240"
      ]
     },
     "execution_count": 28,
     "metadata": {},
     "output_type": "execute_result"
    }
   ],
   "source": [
    "accuracy_df"
   ]
  },
  {
   "cell_type": "markdown",
   "id": "9a05979e-3777-4295-8159-d8a3868b3f1a",
   "metadata": {},
   "source": [
    "Logreg shows the top result, RF does as well, even though there are some tokens in the description that train data doesn't include. Slightly poorer performance by boosting. So we can conclude that the data is of linear nature, because random forest doesn't outperform the linear model. Maybe tuning the boosting model can show better results, but given the linear nature of the data, this is unlikely. "
   ]
  },
  {
   "cell_type": "code",
   "execution_count": 29,
   "id": "608cd536-d3c5-4222-ad1a-cbf6fd04069e",
   "metadata": {},
   "outputs": [
    {
     "data": {
      "text/html": [
       "<div>\n",
       "<style scoped>\n",
       "    .dataframe tbody tr th:only-of-type {\n",
       "        vertical-align: middle;\n",
       "    }\n",
       "\n",
       "    .dataframe tbody tr th {\n",
       "        vertical-align: top;\n",
       "    }\n",
       "\n",
       "    .dataframe thead th {\n",
       "        text-align: right;\n",
       "    }\n",
       "</style>\n",
       "<table border=\"1\" class=\"dataframe\">\n",
       "  <thead>\n",
       "    <tr style=\"text-align: right;\">\n",
       "      <th></th>\n",
       "      <th>Class</th>\n",
       "      <th>Precision</th>\n",
       "      <th>Recall</th>\n",
       "    </tr>\n",
       "  </thead>\n",
       "  <tbody>\n",
       "    <tr>\n",
       "      <th>0</th>\n",
       "      <td>Shopping</td>\n",
       "      <td>0.995200</td>\n",
       "      <td>0.951070</td>\n",
       "    </tr>\n",
       "    <tr>\n",
       "      <th>1</th>\n",
       "      <td>account_fees</td>\n",
       "      <td>1.000000</td>\n",
       "      <td>1.000000</td>\n",
       "    </tr>\n",
       "    <tr>\n",
       "      <th>2</th>\n",
       "      <td>bill_payments</td>\n",
       "      <td>0.988208</td>\n",
       "      <td>1.000000</td>\n",
       "    </tr>\n",
       "    <tr>\n",
       "      <th>3</th>\n",
       "      <td>cash_point</td>\n",
       "      <td>1.000000</td>\n",
       "      <td>1.000000</td>\n",
       "    </tr>\n",
       "    <tr>\n",
       "      <th>4</th>\n",
       "      <td>cheque_payments</td>\n",
       "      <td>0.120000</td>\n",
       "      <td>1.000000</td>\n",
       "    </tr>\n",
       "    <tr>\n",
       "      <th>5</th>\n",
       "      <td>deposits</td>\n",
       "      <td>1.000000</td>\n",
       "      <td>0.818182</td>\n",
       "    </tr>\n",
       "    <tr>\n",
       "      <th>6</th>\n",
       "      <td>income</td>\n",
       "      <td>0.981481</td>\n",
       "      <td>0.883333</td>\n",
       "    </tr>\n",
       "    <tr>\n",
       "      <th>7</th>\n",
       "      <td>transfer</td>\n",
       "      <td>0.837500</td>\n",
       "      <td>0.957143</td>\n",
       "    </tr>\n",
       "  </tbody>\n",
       "</table>\n",
       "</div>"
      ],
      "text/plain": [
       "             Class  Precision    Recall\n",
       "0         Shopping   0.995200  0.951070\n",
       "1     account_fees   1.000000  1.000000\n",
       "2    bill_payments   0.988208  1.000000\n",
       "3       cash_point   1.000000  1.000000\n",
       "4  cheque_payments   0.120000  1.000000\n",
       "5         deposits   1.000000  0.818182\n",
       "6           income   0.981481  0.883333\n",
       "7         transfer   0.837500  0.957143"
      ]
     },
     "execution_count": 29,
     "metadata": {},
     "output_type": "execute_result"
    }
   ],
   "source": [
    "precisions_and_recalls['Logistic Regression']"
   ]
  },
  {
   "cell_type": "code",
   "execution_count": 30,
   "id": "b8276730-ca31-48a1-807c-de3a5372fb94",
   "metadata": {},
   "outputs": [
    {
     "data": {
      "text/html": [
       "<div>\n",
       "<style scoped>\n",
       "    .dataframe tbody tr th:only-of-type {\n",
       "        vertical-align: middle;\n",
       "    }\n",
       "\n",
       "    .dataframe tbody tr th {\n",
       "        vertical-align: top;\n",
       "    }\n",
       "\n",
       "    .dataframe thead th {\n",
       "        text-align: right;\n",
       "    }\n",
       "</style>\n",
       "<table border=\"1\" class=\"dataframe\">\n",
       "  <thead>\n",
       "    <tr style=\"text-align: right;\">\n",
       "      <th></th>\n",
       "      <th>Class</th>\n",
       "      <th>Precision</th>\n",
       "      <th>Recall</th>\n",
       "    </tr>\n",
       "  </thead>\n",
       "  <tbody>\n",
       "    <tr>\n",
       "      <th>0</th>\n",
       "      <td>Shopping</td>\n",
       "      <td>0.996743</td>\n",
       "      <td>0.935780</td>\n",
       "    </tr>\n",
       "    <tr>\n",
       "      <th>1</th>\n",
       "      <td>account_fees</td>\n",
       "      <td>1.000000</td>\n",
       "      <td>1.000000</td>\n",
       "    </tr>\n",
       "    <tr>\n",
       "      <th>2</th>\n",
       "      <td>bill_payments</td>\n",
       "      <td>0.988208</td>\n",
       "      <td>1.000000</td>\n",
       "    </tr>\n",
       "    <tr>\n",
       "      <th>3</th>\n",
       "      <td>cash_point</td>\n",
       "      <td>1.000000</td>\n",
       "      <td>1.000000</td>\n",
       "    </tr>\n",
       "    <tr>\n",
       "      <th>4</th>\n",
       "      <td>cheque_payments</td>\n",
       "      <td>0.078947</td>\n",
       "      <td>1.000000</td>\n",
       "    </tr>\n",
       "    <tr>\n",
       "      <th>5</th>\n",
       "      <td>deposits</td>\n",
       "      <td>1.000000</td>\n",
       "      <td>0.818182</td>\n",
       "    </tr>\n",
       "    <tr>\n",
       "      <th>6</th>\n",
       "      <td>income</td>\n",
       "      <td>0.981481</td>\n",
       "      <td>0.883333</td>\n",
       "    </tr>\n",
       "    <tr>\n",
       "      <th>7</th>\n",
       "      <td>transfer</td>\n",
       "      <td>0.858974</td>\n",
       "      <td>0.957143</td>\n",
       "    </tr>\n",
       "  </tbody>\n",
       "</table>\n",
       "</div>"
      ],
      "text/plain": [
       "             Class  Precision    Recall\n",
       "0         Shopping   0.996743  0.935780\n",
       "1     account_fees   1.000000  1.000000\n",
       "2    bill_payments   0.988208  1.000000\n",
       "3       cash_point   1.000000  1.000000\n",
       "4  cheque_payments   0.078947  1.000000\n",
       "5         deposits   1.000000  0.818182\n",
       "6           income   0.981481  0.883333\n",
       "7         transfer   0.858974  0.957143"
      ]
     },
     "execution_count": 30,
     "metadata": {},
     "output_type": "execute_result"
    }
   ],
   "source": [
    "precisions_and_recalls['Random Forest']"
   ]
  },
  {
   "cell_type": "code",
   "execution_count": 31,
   "id": "2fa956eb-3a2c-4195-ab38-a3a574673f07",
   "metadata": {},
   "outputs": [
    {
     "data": {
      "text/html": [
       "<div>\n",
       "<style scoped>\n",
       "    .dataframe tbody tr th:only-of-type {\n",
       "        vertical-align: middle;\n",
       "    }\n",
       "\n",
       "    .dataframe tbody tr th {\n",
       "        vertical-align: top;\n",
       "    }\n",
       "\n",
       "    .dataframe thead th {\n",
       "        text-align: right;\n",
       "    }\n",
       "</style>\n",
       "<table border=\"1\" class=\"dataframe\">\n",
       "  <thead>\n",
       "    <tr style=\"text-align: right;\">\n",
       "      <th></th>\n",
       "      <th>Class</th>\n",
       "      <th>Precision</th>\n",
       "      <th>Recall</th>\n",
       "    </tr>\n",
       "  </thead>\n",
       "  <tbody>\n",
       "    <tr>\n",
       "      <th>0</th>\n",
       "      <td>Shopping</td>\n",
       "      <td>0.974085</td>\n",
       "      <td>0.977064</td>\n",
       "    </tr>\n",
       "    <tr>\n",
       "      <th>1</th>\n",
       "      <td>account_fees</td>\n",
       "      <td>1.000000</td>\n",
       "      <td>1.000000</td>\n",
       "    </tr>\n",
       "    <tr>\n",
       "      <th>2</th>\n",
       "      <td>bill_payments</td>\n",
       "      <td>0.988095</td>\n",
       "      <td>0.990453</td>\n",
       "    </tr>\n",
       "    <tr>\n",
       "      <th>3</th>\n",
       "      <td>cash_point</td>\n",
       "      <td>1.000000</td>\n",
       "      <td>0.988889</td>\n",
       "    </tr>\n",
       "    <tr>\n",
       "      <th>4</th>\n",
       "      <td>cheque_payments</td>\n",
       "      <td>0.500000</td>\n",
       "      <td>0.333333</td>\n",
       "    </tr>\n",
       "    <tr>\n",
       "      <th>5</th>\n",
       "      <td>deposits</td>\n",
       "      <td>1.000000</td>\n",
       "      <td>0.818182</td>\n",
       "    </tr>\n",
       "    <tr>\n",
       "      <th>6</th>\n",
       "      <td>income</td>\n",
       "      <td>0.962264</td>\n",
       "      <td>0.850000</td>\n",
       "    </tr>\n",
       "    <tr>\n",
       "      <th>7</th>\n",
       "      <td>transfer</td>\n",
       "      <td>0.807692</td>\n",
       "      <td>0.900000</td>\n",
       "    </tr>\n",
       "  </tbody>\n",
       "</table>\n",
       "</div>"
      ],
      "text/plain": [
       "             Class  Precision    Recall\n",
       "0         Shopping   0.974085  0.977064\n",
       "1     account_fees   1.000000  1.000000\n",
       "2    bill_payments   0.988095  0.990453\n",
       "3       cash_point   1.000000  0.988889\n",
       "4  cheque_payments   0.500000  0.333333\n",
       "5         deposits   1.000000  0.818182\n",
       "6           income   0.962264  0.850000\n",
       "7         transfer   0.807692  0.900000"
      ]
     },
     "execution_count": 31,
     "metadata": {},
     "output_type": "execute_result"
    }
   ],
   "source": [
    "precisions_and_recalls['Gradient Boosting']"
   ]
  },
  {
   "cell_type": "markdown",
   "id": "8eb2b885-f814-4b1f-9d8b-beab143150db",
   "metadata": {},
   "source": [
    "Almost all categories are predicted very well. Only 'Cheque Payments' - the category where all models are showing poor results, but that's expected, the training part contains only 2 samples of it"
   ]
  },
  {
   "cell_type": "markdown",
   "id": "476bbc7a-8d40-4e7d-b2e4-7c8d7a838565",
   "metadata": {},
   "source": [
    "Let's check how the models perform on subcategories classification task"
   ]
  },
  {
   "cell_type": "code",
   "execution_count": null,
   "id": "6f8debbb-e18e-4b2a-bd60-281f2ec0c081",
   "metadata": {},
   "outputs": [],
   "source": [
    "models_predictions = fit_models_and_get_predictions(X_sub_category_train, Y_sub_category_train, X_sub_category_test)\n",
    "accuracy_df = get_models_accuracies(Y_sub_category_test, models_predictions)"
   ]
  },
  {
   "cell_type": "code",
   "execution_count": 33,
   "id": "5d6baa82-d167-4214-a57c-4c088fe4c16a",
   "metadata": {},
   "outputs": [
    {
     "data": {
      "text/html": [
       "<div>\n",
       "<style scoped>\n",
       "    .dataframe tbody tr th:only-of-type {\n",
       "        vertical-align: middle;\n",
       "    }\n",
       "\n",
       "    .dataframe tbody tr th {\n",
       "        vertical-align: top;\n",
       "    }\n",
       "\n",
       "    .dataframe thead th {\n",
       "        text-align: right;\n",
       "    }\n",
       "</style>\n",
       "<table border=\"1\" class=\"dataframe\">\n",
       "  <thead>\n",
       "    <tr style=\"text-align: right;\">\n",
       "      <th></th>\n",
       "      <th>Model</th>\n",
       "      <th>Balanced Accuracy</th>\n",
       "    </tr>\n",
       "  </thead>\n",
       "  <tbody>\n",
       "    <tr>\n",
       "      <th>0</th>\n",
       "      <td>Logistic Regression</td>\n",
       "      <td>0.891402</td>\n",
       "    </tr>\n",
       "    <tr>\n",
       "      <th>1</th>\n",
       "      <td>Random Forest</td>\n",
       "      <td>0.884012</td>\n",
       "    </tr>\n",
       "    <tr>\n",
       "      <th>2</th>\n",
       "      <td>Gradient Boosting</td>\n",
       "      <td>0.815650</td>\n",
       "    </tr>\n",
       "  </tbody>\n",
       "</table>\n",
       "</div>"
      ],
      "text/plain": [
       "                 Model  Balanced Accuracy\n",
       "0  Logistic Regression           0.891402\n",
       "1        Random Forest           0.884012\n",
       "2    Gradient Boosting           0.815650"
      ]
     },
     "execution_count": 33,
     "metadata": {},
     "output_type": "execute_result"
    }
   ],
   "source": [
    "accuracy_df"
   ]
  },
  {
   "cell_type": "markdown",
   "id": "21a9bd05-0b97-425f-99d9-27daf6fd7086",
   "metadata": {},
   "source": [
    "The number of labels has increased almost 3x, but still our models show solid results"
   ]
  },
  {
   "cell_type": "markdown",
   "id": "16eee9d7-8f1e-43b7-8731-e1462f8654a6",
   "metadata": {},
   "source": [
    "Dump the logreg model:"
   ]
  },
  {
   "cell_type": "code",
   "execution_count": 42,
   "id": "258a7dbc-ace3-473c-b517-7972c8f28eaf",
   "metadata": {},
   "outputs": [
    {
     "data": {
      "text/plain": [
       "['logreg.pkl']"
      ]
     },
     "execution_count": 42,
     "metadata": {},
     "output_type": "execute_result"
    }
   ],
   "source": [
    "joblib.dump(models['Logistic Regression'], 'logreg.pkl')"
   ]
  },
  {
   "cell_type": "markdown",
   "id": "631afae2-677d-4e69-855c-8c511f2351f5",
   "metadata": {},
   "source": [
    "## Bonus: Cross-validation"
   ]
  },
  {
   "cell_type": "markdown",
   "id": "7267a11b-9ec6-41d1-85d0-c7c6e846f94a",
   "metadata": {},
   "source": [
    "Let's choose the best number of estimators in Random Forest using cross-validation. The metric would be balanced accuracy"
   ]
  },
  {
   "cell_type": "code",
   "execution_count": 35,
   "id": "8b27c95e-2230-4c42-a96e-099dd3ff7085",
   "metadata": {},
   "outputs": [],
   "source": [
    "from sklearn.model_selection import GridSearchCV, StratifiedKFold\n",
    "\n",
    "param_grid = {\n",
    "    'classifier__n_estimators': [10, 50, 100, 200, 300]\n",
    "}\n",
    "\n",
    "cv = StratifiedKFold(n_splits=5, shuffle=True, random_state=seed)\n",
    "\n",
    "random_forest_pipeline = Pipeline([\n",
    "    ('one-hot', MultiLabelBinarizerWrapper()),\n",
    "    (\"classifier\", RandomForestClassifier(random_state=seed))\n",
    "])\n",
    "\n",
    "grid_search = GridSearchCV(\n",
    "    estimator=random_forest_pipeline,\n",
    "    param_grid=param_grid,\n",
    "    scoring='balanced_accuracy',\n",
    "    cv=cv\n",
    ")"
   ]
  },
  {
   "cell_type": "code",
   "execution_count": null,
   "id": "2ff44166-9cac-4bc2-88e3-eaf56cdb49f6",
   "metadata": {},
   "outputs": [],
   "source": [
    "grid_search.fit(X_category_train, Y_category_train)"
   ]
  },
  {
   "cell_type": "code",
   "execution_count": 37,
   "id": "5c45600a-247f-499f-b4b4-d377d8309ba4",
   "metadata": {},
   "outputs": [],
   "source": [
    "results_df = pd.DataFrame(grid_search.cv_results_)[['param_classifier__n_estimators', 'mean_test_score', 'std_test_score']]"
   ]
  },
  {
   "cell_type": "code",
   "execution_count": 38,
   "id": "7896f9d8-9cce-4e89-8fc9-dbedc3b24c5b",
   "metadata": {},
   "outputs": [
    {
     "data": {
      "text/html": [
       "<div>\n",
       "<style scoped>\n",
       "    .dataframe tbody tr th:only-of-type {\n",
       "        vertical-align: middle;\n",
       "    }\n",
       "\n",
       "    .dataframe tbody tr th {\n",
       "        vertical-align: top;\n",
       "    }\n",
       "\n",
       "    .dataframe thead th {\n",
       "        text-align: right;\n",
       "    }\n",
       "</style>\n",
       "<table border=\"1\" class=\"dataframe\">\n",
       "  <thead>\n",
       "    <tr style=\"text-align: right;\">\n",
       "      <th></th>\n",
       "      <th>param_classifier__n_estimators</th>\n",
       "      <th>mean_test_score</th>\n",
       "      <th>std_test_score</th>\n",
       "    </tr>\n",
       "  </thead>\n",
       "  <tbody>\n",
       "    <tr>\n",
       "      <th>0</th>\n",
       "      <td>10</td>\n",
       "      <td>0.897956</td>\n",
       "      <td>0.046070</td>\n",
       "    </tr>\n",
       "    <tr>\n",
       "      <th>1</th>\n",
       "      <td>50</td>\n",
       "      <td>0.919039</td>\n",
       "      <td>0.043366</td>\n",
       "    </tr>\n",
       "    <tr>\n",
       "      <th>2</th>\n",
       "      <td>100</td>\n",
       "      <td>0.902372</td>\n",
       "      <td>0.047025</td>\n",
       "    </tr>\n",
       "    <tr>\n",
       "      <th>3</th>\n",
       "      <td>200</td>\n",
       "      <td>0.914852</td>\n",
       "      <td>0.051246</td>\n",
       "    </tr>\n",
       "    <tr>\n",
       "      <th>4</th>\n",
       "      <td>300</td>\n",
       "      <td>0.919539</td>\n",
       "      <td>0.042166</td>\n",
       "    </tr>\n",
       "  </tbody>\n",
       "</table>\n",
       "</div>"
      ],
      "text/plain": [
       "   param_classifier__n_estimators  mean_test_score  std_test_score\n",
       "0                              10         0.897956        0.046070\n",
       "1                              50         0.919039        0.043366\n",
       "2                             100         0.902372        0.047025\n",
       "3                             200         0.914852        0.051246\n",
       "4                             300         0.919539        0.042166"
      ]
     },
     "execution_count": 38,
     "metadata": {},
     "output_type": "execute_result"
    }
   ],
   "source": [
    "results_df"
   ]
  },
  {
   "cell_type": "code",
   "execution_count": 54,
   "id": "ae35b036-6ebc-4b7a-a58e-cda396398738",
   "metadata": {},
   "outputs": [
    {
     "data": {
      "text/plain": [
       "array([0])"
      ]
     },
     "execution_count": 54,
     "metadata": {},
     "output_type": "execute_result"
    }
   ],
   "source": [
    "models['Logistic Regression'].predict([['shop', 'shop']])"
   ]
  }
 ],
 "metadata": {
  "kernelspec": {
   "display_name": "Python 3 (ipykernel)",
   "language": "python",
   "name": "python3"
  },
  "language_info": {
   "codemirror_mode": {
    "name": "ipython",
    "version": 3
   },
   "file_extension": ".py",
   "mimetype": "text/x-python",
   "name": "python",
   "nbconvert_exporter": "python",
   "pygments_lexer": "ipython3",
   "version": "3.12.0"
  }
 },
 "nbformat": 4,
 "nbformat_minor": 5
}
